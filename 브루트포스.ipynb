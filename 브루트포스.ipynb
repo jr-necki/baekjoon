{
  "nbformat": 4,
  "nbformat_minor": 0,
  "metadata": {
    "colab": {
      "name": "브루트포스.ipynb",
      "private_outputs": true,
      "provenance": [],
      "authorship_tag": "ABX9TyPubm/gzPJh0zDFOJDyb0Pb",
      "include_colab_link": true
    },
    "kernelspec": {
      "name": "python3",
      "display_name": "Python 3"
    },
    "language_info": {
      "name": "python"
    }
  },
  "cells": [
    {
      "cell_type": "markdown",
      "metadata": {
        "id": "view-in-github",
        "colab_type": "text"
      },
      "source": [
        "<a href=\"https://colab.research.google.com/github/jelly-boop/baekjoon/blob/master/%EB%B8%8C%EB%A3%A8%ED%8A%B8%ED%8F%AC%EC%8A%A4.ipynb\" target=\"_parent\"><img src=\"https://colab.research.google.com/assets/colab-badge.svg\" alt=\"Open In Colab\"/></a>"
      ]
    },
    {
      "cell_type": "markdown",
      "source": [
        "# **2798_블랙잭**\n",
        "일일이 다 해본다"
      ],
      "metadata": {
        "id": "sasPnc9eZ9fb"
      }
    },
    {
      "cell_type": "code",
      "source": [
        "n,m = map(int,input().split())\n",
        "cards = list(map(int,input().split()))\n",
        "ans=0\n",
        "for i in range(0,n):\n",
        "  for j in range(i+1,n):\n",
        "    for k in range(j+1,n):\n",
        "      sum= cards[i]+cards[j]+cards[k]\n",
        "      if sum>m:\n",
        "        continue\n",
        "      else:\n",
        "        ans = max(ans,sum)\n",
        "\n",
        "print(ans)"
      ],
      "metadata": {
        "id": "hXVuEYuFZ95D"
      },
      "execution_count": null,
      "outputs": []
    },
    {
      "cell_type": "markdown",
      "source": [
        "# **2231_분해합**"
      ],
      "metadata": {
        "id": "AmKF5TQeaHK5"
      }
    },
    {
      "cell_type": "code",
      "source": [
        "\n",
        "\n"
      ],
      "metadata": {
        "id": "MqOWLznkaHaR"
      },
      "execution_count": null,
      "outputs": []
    }
  ]
}