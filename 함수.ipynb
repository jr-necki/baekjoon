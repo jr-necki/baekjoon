{
  "nbformat": 4,
  "nbformat_minor": 0,
  "metadata": {
    "colab": {
      "name": "함수.ipynb",
      "private_outputs": true,
      "provenance": [],
      "authorship_tag": "ABX9TyPBHmlD2JcinZMt9OzoKE0w",
      "include_colab_link": true
    },
    "kernelspec": {
      "name": "python3",
      "display_name": "Python 3"
    },
    "language_info": {
      "name": "python"
    }
  },
  "cells": [
    {
      "cell_type": "markdown",
      "metadata": {
        "id": "view-in-github",
        "colab_type": "text"
      },
      "source": [
        "<a href=\"https://colab.research.google.com/github/jelly-boop/baekjoon/blob/master/%ED%95%A8%EC%88%98.ipynb\" target=\"_parent\"><img src=\"https://colab.research.google.com/assets/colab-badge.svg\" alt=\"Open In Colab\"/></a>"
      ]
    },
    {
      "cell_type": "markdown",
      "source": [
        "# **15596_정수N개의 합**\n",
        "sum 함수를 이용"
      ],
      "metadata": {
        "id": "yif9j3LHKpux"
      }
    },
    {
      "cell_type": "code",
      "source": [
        "def solve(a):\n",
        "  return sum(a)\n",
        "\n",
        "numbers = list(map(int, input().split()))"
      ],
      "metadata": {
        "id": "KlLKwIk6Xz7t"
      },
      "execution_count": null,
      "outputs": []
    },
    {
      "cell_type": "markdown",
      "source": [
        "# **4673_셀프넘버**\n",
        "1~10000까지 숫자에서 생성된 숫자들을 빼면\n",
        "셀프넘버만 남는다."
      ],
      "metadata": {
        "id": "Yf1LR8ZxZGM4"
      }
    },
    {
      "cell_type": "code",
      "source": [
        "origin = set(range(1,10001)) # 1~10000까지 set\n",
        "result = set()\n",
        "\n",
        "for i in range(1,10001):\n",
        "  for j in str(i):\n",
        "    i+=int(j)\n",
        "  result.add(i) # set은 add로 하나보다..\n",
        "\n",
        "origin = sorted(origin - result) # 배열에서 중복되는걸 뺄 수 있다.\n",
        "for i in origin:\n",
        "  print(i)"
      ],
      "metadata": {
        "id": "McNyd7NeK1uZ"
      },
      "execution_count": null,
      "outputs": []
    },
    {
      "cell_type": "markdown",
      "source": [
        "# **1065_한수**\n",
        "\n",
        "어차피 세자리 수이므로 등차수열 조건을 생각한다~"
      ],
      "metadata": {
        "id": "dl4Z_C5E7WQ4"
      }
    },
    {
      "cell_type": "code",
      "source": [
        "n =int(input())\n",
        "cnt = 0\n",
        "\n",
        "for i in range(1, n+1):\n",
        "  n = list(map(int,str(i)))\n",
        "  if i<100:\n",
        "    cnt+=1\n",
        "  elif n[0]+n[2] == n[1]*2:\n",
        "    cnt+=1\n",
        "print(cnt)"
      ],
      "metadata": {
        "id": "743QbTl37ag1"
      },
      "execution_count": null,
      "outputs": []
    }
  ]
}