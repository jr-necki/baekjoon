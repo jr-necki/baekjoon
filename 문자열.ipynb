{
  "nbformat": 4,
  "nbformat_minor": 0,
  "metadata": {
    "colab": {
      "name": "문자열.ipynb",
      "private_outputs": true,
      "provenance": [],
      "authorship_tag": "ABX9TyNhz2Lh62i7D6RDD3WBeWQu",
      "include_colab_link": true
    },
    "kernelspec": {
      "name": "python3",
      "display_name": "Python 3"
    },
    "language_info": {
      "name": "python"
    }
  },
  "cells": [
    {
      "cell_type": "markdown",
      "metadata": {
        "id": "view-in-github",
        "colab_type": "text"
      },
      "source": [
        "<a href=\"https://colab.research.google.com/github/jelly-boop/baekjoon/blob/master/%EB%AC%B8%EC%9E%90%EC%97%B4.ipynb\" target=\"_parent\"><img src=\"https://colab.research.google.com/assets/colab-badge.svg\" alt=\"Open In Colab\"/></a>"
      ]
    },
    {
      "cell_type": "markdown",
      "source": [
        "# **11654_아스키코드**\n",
        "ord() 사용"
      ],
      "metadata": {
        "id": "NwlQxX9p1amf"
      }
    },
    {
      "cell_type": "code",
      "source": [
        "print(ord(input()))"
      ],
      "metadata": {
        "id": "UBbN00uK1fBF"
      },
      "execution_count": null,
      "outputs": []
    },
    {
      "cell_type": "markdown",
      "source": [
        "# **11729_숫자의합**\n",
        "sum()사용\n",
        "\n"
      ],
      "metadata": {
        "id": "Bq2WY_HW2Fjk"
      }
    },
    {
      "cell_type": "code",
      "source": [
        "n = input()\n",
        "a = list(map(int, input()))\n",
        "print(sum(a))"
      ],
      "metadata": {
        "id": "xFzhf4022R1x"
      },
      "execution_count": null,
      "outputs": []
    },
    {
      "cell_type": "markdown",
      "source": [
        "# **10809_알파벳찾기**\n",
        "문자 위치 알려주는 함수: 만약 없을 때\n",
        "find('문자') : -1\n",
        "index('문자') : 에러남"
      ],
      "metadata": {
        "id": "nCwEuHWg2600"
      }
    },
    {
      "cell_type": "code",
      "source": [
        "a = input()\n",
        "ans=\"\"\n",
        "for i in range(97,123):\n",
        "  c = chr(i)\n",
        "  ans=ans+str(a.find(c))+\" \"\n",
        "print(ans)"
      ],
      "metadata": {
        "id": "BXyK387M2-5f"
      },
      "execution_count": null,
      "outputs": []
    },
    {
      "cell_type": "markdown",
      "source": [
        "# **2675_문자열반복**"
      ],
      "metadata": {
        "id": "JOF-AtoF5XF1"
      }
    },
    {
      "cell_type": "code",
      "source": [
        "n = int(input())\n",
        "\n",
        "for i in range(n):\n",
        "  a,wrd = input().split()\n",
        "  a = int(a)\n",
        "  ans = \"\"\n",
        "  for j in wrd:\n",
        "    for k in range(a):\n",
        "      ans+=j\n",
        "  print(ans) \n",
        "  "
      ],
      "metadata": {
        "id": "0pVPEUhQ5erc"
      },
      "execution_count": null,
      "outputs": []
    },
    {
      "cell_type": "markdown",
      "source": [
        "# **1157_단어공부**"
      ],
      "metadata": {
        "id": "USOOmAEr9EAD"
      }
    },
    {
      "cell_type": "code",
      "source": [
        "word = input().upper()\n",
        "word_list = list(set(words))  # [m,s,i,p]\n",
        "cnt_list = []\n",
        "\n",
        "for w in word_list :\n",
        "    cnt = word.count(w)\n",
        "    cnt_list.append(cnt)  # [4,4,1,1]\n",
        "\n",
        "if cnt_list.count(max(cnt_list)) > 1 :  # max값이 여러개일때\n",
        "    print('?')\n",
        "else :\n",
        "    max_index = cnt_list.index(max(cnt_list))  # count 숫자 최대값 인덱스(위치)\n",
        "    print(word_list[max_index])\n"
      ],
      "metadata": {
        "id": "7d03MXTV9IOp"
      },
      "execution_count": null,
      "outputs": []
    },
    {
      "cell_type": "markdown",
      "source": [
        "# **1152_단어의 개수**"
      ],
      "metadata": {
        "id": "IYom86EuqYG8"
      }
    },
    {
      "cell_type": "code",
      "source": [
        "s_list = input().split()\n",
        "print(len(s_list))"
      ],
      "metadata": {
        "id": "EcS-yTCHqb2T"
      },
      "execution_count": null,
      "outputs": []
    },
    {
      "cell_type": "markdown",
      "source": [
        "# **2908_상수**"
      ],
      "metadata": {
        "id": "5AMA95jRswxT"
      }
    },
    {
      "cell_type": "code",
      "source": [
        "a,b = input().split()\n",
        "\n",
        "a = int(a[2])*100+int(a[1])*10+int(a[0])\n",
        "b = int(b[2])*100+int(b[1])*10+int(b[0])\n",
        "\n",
        "print(max(a,b))"
      ],
      "metadata": {
        "id": "bo2uo3css2Ow"
      },
      "execution_count": null,
      "outputs": []
    },
    {
      "cell_type": "markdown",
      "source": [
        "# **5622_다이얼**"
      ],
      "metadata": {
        "id": "JU4LzbVvuSsT"
      }
    },
    {
      "cell_type": "code",
      "source": [
        "dial = [\"ABC\",\"DEF\",\"GHI\",\"JKL\",\"MNO\",\"PQRS\",\"TUV\",\"WXYZ\"]\n",
        "\n",
        "word = input()\n",
        "time = 0;\n",
        "\n",
        "for w in range(len(word)):\n",
        "  for d in dial:\n",
        "    if word[w] in d: # 문자가 다이얼에 포함되어있다면\n",
        "      idx = dial.index(d)\n",
        "      time+=idx+3\n",
        "print(time)"
      ],
      "metadata": {
        "id": "UJM9mqZoukxk"
      },
      "execution_count": null,
      "outputs": []
    },
    {
      "cell_type": "markdown",
      "source": [
        "# **2941크로아티아 알파벳**\n",
        "크로아티아 알파벳에 해당되는 문자는 느낌표로 replace"
      ],
      "metadata": {
        "id": "Rbwc1MJpxUu4"
      }
    },
    {
      "cell_type": "code",
      "source": [
        "croa = [\"c=\",\"c-\",\"dz=\",\"d-\",\"lj\",\"nj\",\"s=\",\"z=\"]\n",
        "word = input()\n",
        "\n",
        "for c in croa:\n",
        "  word = word.replace(c,\"!\")\n",
        "print(len(word))    "
      ],
      "metadata": {
        "id": "4TUOreCNxU6F"
      },
      "execution_count": null,
      "outputs": []
    },
    {
      "cell_type": "markdown",
      "source": [
        "# **1316_그룹단어체커**"
      ],
      "metadata": {
        "id": "EVVbniTEzhj4"
      }
    },
    {
      "cell_type": "code",
      "source": [
        "case = int(input())\n",
        "cnt=0\n",
        "\n",
        "for i in range(case):\n",
        "  word = input()\n",
        "  temp=[]\n",
        "  temp.append(word[len(word)-1]) # 마지막꺼 넣기\n",
        "\n",
        "  for j in range(0,len(word)-1):\n",
        "    if word[j] != word[j+1]: # 앞글자와 다르다면\n",
        "      temp.append(word[j]) # 앞글자 넣기\n",
        "  group = True\n",
        "  for t in temp:\n",
        "    if temp.count(t) > 1:\n",
        "      group = False\n",
        "      break\n",
        "  if(group):\n",
        "    cnt+=1\n",
        "\n",
        "print(cnt)\n",
        "\n"
      ],
      "metadata": {
        "id": "82ifvvvxzrJt"
      },
      "execution_count": null,
      "outputs": []
    }
  ]
}