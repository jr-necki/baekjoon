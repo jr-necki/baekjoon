{
  "nbformat": 4,
  "nbformat_minor": 0,
  "metadata": {
    "colab": {
      "name": "문자열.ipynb",
      "private_outputs": true,
      "provenance": [],
      "authorship_tag": "ABX9TyNEhdu4x92NI2vnR3+y5j4l",
      "include_colab_link": true
    },
    "kernelspec": {
      "name": "python3",
      "display_name": "Python 3"
    },
    "language_info": {
      "name": "python"
    }
  },
  "cells": [
    {
      "cell_type": "markdown",
      "metadata": {
        "id": "view-in-github",
        "colab_type": "text"
      },
      "source": [
        "<a href=\"https://colab.research.google.com/github/jelly-boop/baekjoon/blob/master/%EB%AC%B8%EC%9E%90%EC%97%B4.ipynb\" target=\"_parent\"><img src=\"https://colab.research.google.com/assets/colab-badge.svg\" alt=\"Open In Colab\"/></a>"
      ]
    },
    {
      "cell_type": "markdown",
      "source": [
        "# **11654_아스키코드**\n",
        "ord() 사용"
      ],
      "metadata": {
        "id": "NwlQxX9p1amf"
      }
    },
    {
      "cell_type": "code",
      "source": [
        "print(ord(input()))"
      ],
      "metadata": {
        "id": "UBbN00uK1fBF"
      },
      "execution_count": null,
      "outputs": []
    },
    {
      "cell_type": "markdown",
      "source": [
        "# **11729_숫자의합**\n",
        "sum()사용\n",
        "\n"
      ],
      "metadata": {
        "id": "Bq2WY_HW2Fjk"
      }
    },
    {
      "cell_type": "code",
      "source": [
        "n = input()\n",
        "a = list(map(int, input()))\n",
        "print(sum(a))"
      ],
      "metadata": {
        "id": "xFzhf4022R1x"
      },
      "execution_count": null,
      "outputs": []
    },
    {
      "cell_type": "markdown",
      "source": [
        "# **10809_알파벳찾기**\n",
        "문자 위치 알려주는 함수: 만약 없을 때\n",
        "find('문자') : -1\n",
        "index('문자') : 에러남"
      ],
      "metadata": {
        "id": "nCwEuHWg2600"
      }
    },
    {
      "cell_type": "code",
      "source": [
        "a = input()\n",
        "ans=\"\"\n",
        "for i in range(97,123):\n",
        "  c = chr(i)\n",
        "  ans=ans+str(a.find(c))+\" \"\n",
        "print(ans)"
      ],
      "metadata": {
        "id": "BXyK387M2-5f"
      },
      "execution_count": null,
      "outputs": []
    },
    {
      "cell_type": "markdown",
      "source": [
        "# **2675_문자열반복**"
      ],
      "metadata": {
        "id": "JOF-AtoF5XF1"
      }
    },
    {
      "cell_type": "code",
      "source": [
        "n = int(input())\n",
        "\n",
        "for i in range(n):\n",
        "  a,wrd = input().split()\n",
        "  a = int(a)\n",
        "  ans = \"\"\n",
        "  for j in wrd:\n",
        "    for k in range(a):\n",
        "      ans+=j\n",
        "  print(ans) \n",
        "  "
      ],
      "metadata": {
        "id": "0pVPEUhQ5erc"
      },
      "execution_count": null,
      "outputs": []
    },
    {
      "cell_type": "markdown",
      "source": [
        "# **1157_단어공부**"
      ],
      "metadata": {
        "id": "USOOmAEr9EAD"
      }
    },
    {
      "cell_type": "code",
      "source": [
        ""
      ],
      "metadata": {
        "id": "7d03MXTV9IOp"
      },
      "execution_count": null,
      "outputs": []
    }
  ]
}