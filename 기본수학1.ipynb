{
  "nbformat": 4,
  "nbformat_minor": 0,
  "metadata": {
    "colab": {
      "name": "기본수학1.ipynb",
      "private_outputs": true,
      "provenance": [],
      "authorship_tag": "ABX9TyNwkONnM2OOnwXvUixCg4LI",
      "include_colab_link": true
    },
    "kernelspec": {
      "name": "python3",
      "display_name": "Python 3"
    },
    "language_info": {
      "name": "python"
    }
  },
  "cells": [
    {
      "cell_type": "markdown",
      "metadata": {
        "id": "view-in-github",
        "colab_type": "text"
      },
      "source": [
        "<a href=\"https://colab.research.google.com/github/jelly-boop/baekjoon/blob/master/%EA%B8%B0%EB%B3%B8%EC%88%98%ED%95%991.ipynb\" target=\"_parent\"><img src=\"https://colab.research.google.com/assets/colab-badge.svg\" alt=\"Open In Colab\"/></a>"
      ]
    },
    {
      "cell_type": "markdown",
      "source": [
        "# **1712_손익분기점**"
      ],
      "metadata": {
        "id": "kglrstfN4Yhg"
      }
    },
    {
      "cell_type": "code",
      "source": [
        "a,b,c = map(int,input().split())\n",
        "\n",
        "if b>=c:\n",
        "    print(-1)\n",
        "else:\n",
        "  print(a//(c-b)+1)"
      ],
      "metadata": {
        "id": "k0Fmuk--4hSQ"
      },
      "execution_count": null,
      "outputs": []
    },
    {
      "cell_type": "markdown",
      "source": [
        "# **2292_벌집**\n",
        "규칙을 찾으면 된다."
      ],
      "metadata": {
        "id": "kLRfVEeaqU1Z"
      }
    },
    {
      "cell_type": "code",
      "source": [
        "N = int(input())\n",
        "cnt=1\n",
        "r = 1\n",
        "plus = 6\n",
        "\n",
        "while N > r:\n",
        "  r+=plus\n",
        "  plus+=6\n",
        "  cnt+=1\n",
        "print(cnt)"
      ],
      "metadata": {
        "id": "U185gpfFqYXO"
      },
      "execution_count": null,
      "outputs": []
    },
    {
      "cell_type": "markdown",
      "source": [
        "# **1193_분수찾기**\n",
        "규칙을 찾으면 된다."
      ],
      "metadata": {
        "id": "6-rmJbuyu3C3"
      }
    },
    {
      "cell_type": "code",
      "source": [
        "n = int(input())\n",
        "idx = 1\n",
        "plus=2\n",
        "line = 1\n",
        "\n",
        "while n>idx: # n=5 \n",
        "   idx+=plus # 3\n",
        "   plus+=1 \n",
        "   line+=1\n",
        "\n",
        "gap = idx - n\n",
        "up=0\n",
        "bottom=0\n",
        "if line%2 :\n",
        "  up =line - gap\n",
        "  bottom =gap +1\n",
        "else:\n",
        "  up=gap+1\n",
        "  bottom = line-gap\n",
        "\n",
        "ans = str(bottom)+\"/\"+str(up)\n",
        "print(ans)\n"
      ],
      "metadata": {
        "id": "McVuU0ZSu7KW"
      },
      "execution_count": null,
      "outputs": []
    },
    {
      "cell_type": "markdown",
      "source": [
        "# **2869_달팽이는 올라가고싶다**\n",
        "\n",
        "나무 높이 기준으로 생각한다"
      ],
      "metadata": {
        "id": "QDGyFWtM46ok"
      }
    },
    {
      "cell_type": "code",
      "source": [
        "import math\n",
        "a,b,v = map(int, input().split())\n",
        "\n",
        "days = math.ceil((v-a)/(a-b)) +1\n",
        "print(days)"
      ],
      "metadata": {
        "id": "_HovqChH467X"
      },
      "execution_count": null,
      "outputs": []
    }
  ]
}