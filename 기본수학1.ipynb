{
  "nbformat": 4,
  "nbformat_minor": 0,
  "metadata": {
    "colab": {
      "name": "기본수학1.ipynb",
      "private_outputs": true,
      "provenance": [],
      "authorship_tag": "ABX9TyOpRdYrfJpoCfIRNT8aI1d3",
      "include_colab_link": true
    },
    "kernelspec": {
      "name": "python3",
      "display_name": "Python 3"
    },
    "language_info": {
      "name": "python"
    }
  },
  "cells": [
    {
      "cell_type": "markdown",
      "metadata": {
        "id": "view-in-github",
        "colab_type": "text"
      },
      "source": [
        "<a href=\"https://colab.research.google.com/github/jelly-boop/baekjoon/blob/master/%EA%B8%B0%EB%B3%B8%EC%88%98%ED%95%991.ipynb\" target=\"_parent\"><img src=\"https://colab.research.google.com/assets/colab-badge.svg\" alt=\"Open In Colab\"/></a>"
      ]
    },
    {
      "cell_type": "markdown",
      "source": [
        "# **1712_손익분기점**"
      ],
      "metadata": {
        "id": "kglrstfN4Yhg"
      }
    },
    {
      "cell_type": "code",
      "source": [
        "a,b,c = map(int,input().split())\n",
        "\n",
        "if b>=c:\n",
        "    print(-1)\n",
        "else:\n",
        "  print(a//(c-b)+1)"
      ],
      "metadata": {
        "id": "k0Fmuk--4hSQ"
      },
      "execution_count": null,
      "outputs": []
    },
    {
      "cell_type": "markdown",
      "source": [
        "# **2292_벌집**\n",
        "규칙을 찾으면 된다."
      ],
      "metadata": {
        "id": "kLRfVEeaqU1Z"
      }
    },
    {
      "cell_type": "code",
      "source": [
        "N = int(input())\n",
        "cnt=1\n",
        "r = 1\n",
        "plus = 6\n",
        "\n",
        "while N > r:\n",
        "  r+=plus\n",
        "  plus+=6\n",
        "  cnt+=1\n",
        "print(cnt)"
      ],
      "metadata": {
        "id": "U185gpfFqYXO"
      },
      "execution_count": null,
      "outputs": []
    },
    {
      "cell_type": "markdown",
      "source": [
        "# **1193_분수찾기**\n",
        "규칙을 찾으면 된다."
      ],
      "metadata": {
        "id": "6-rmJbuyu3C3"
      }
    },
    {
      "cell_type": "code",
      "source": [
        "n = int(input())\n",
        "idx = 1\n",
        "plus=2\n",
        "line = 1\n",
        "\n",
        "while n>idx: # n=5 \n",
        "   idx+=plus # 3\n",
        "   plus+=1 \n",
        "   line+=1\n",
        "\n",
        "gap = idx - n\n",
        "up=0\n",
        "bottom=0\n",
        "if line%2 :\n",
        "  up =line - gap\n",
        "  bottom =gap +1\n",
        "else:\n",
        "  up=gap+1\n",
        "  bottom = line-gap\n",
        "\n",
        "ans = str(bottom)+\"/\"+str(up)\n",
        "print(ans)\n"
      ],
      "metadata": {
        "id": "McVuU0ZSu7KW"
      },
      "execution_count": null,
      "outputs": []
    },
    {
      "cell_type": "markdown",
      "source": [
        "# **2869_달팽이는 올라가고싶다**\n",
        "\n",
        "나무 높이 기준으로 생각한다"
      ],
      "metadata": {
        "id": "QDGyFWtM46ok"
      }
    },
    {
      "cell_type": "code",
      "source": [
        "import math\n",
        "a,b,v = map(int, input().split())\n",
        "\n",
        "days = math.ceil((v-a)/(a-b)) +1\n",
        "print(days)"
      ],
      "metadata": {
        "id": "_HovqChH467X"
      },
      "execution_count": null,
      "outputs": []
    },
    {
      "cell_type": "markdown",
      "source": [
        "# **10250_ACM호텔**"
      ],
      "metadata": {
        "id": "HaW-vqVqPmUB"
      }
    },
    {
      "cell_type": "code",
      "source": [
        "case = int(input())\n",
        "\n",
        "for i in range(case):\n",
        "  h,w,n = map(int, input().split())\n",
        "  rooms = n//h+1\n",
        "  height = n%h\n",
        "  if height == 0:\n",
        "    height =h\n",
        "    rooms = n//h\n",
        "  print(height*100+rooms)"
      ],
      "metadata": {
        "id": "Eexh-bKdJl21"
      },
      "execution_count": null,
      "outputs": []
    },
    {
      "cell_type": "markdown",
      "source": [
        "# **2775_부녀회장이될테야**\n",
        "규칙이 없음... 일일이 해본다."
      ],
      "metadata": {
        "id": "zm6rv9LLRxS3"
      }
    },
    {
      "cell_type": "code",
      "source": [
        "t = int(input())\n",
        "\n",
        "for i in range(t):\n",
        "  k = int(input()) # 1\n",
        "  n = int(input()) # 3\n",
        "  \n",
        "  people = [i for i in range(1,n+1)] # 리스트에 1부터 n+1까지 넣어준다.\n",
        "  for j in range(k): #층 만큼 반복\n",
        "    for y in range(1,n): # 1부터 n호\n",
        "      people[y]+=people[y-1] #누적\n",
        "  print(people[-1]) #마지막\n"
      ],
      "metadata": {
        "id": "LmLapyXZR5vH"
      },
      "execution_count": null,
      "outputs": []
    },
    {
      "cell_type": "markdown",
      "source": [
        "# **2839_설탕배달**\n",
        "5의 배수를 만드는것을 목적으로 하면된다."
      ],
      "metadata": {
        "id": "ZSjXXxmvG1I8"
      }
    },
    {
      "cell_type": "code",
      "source": [
        "n = int(input())\n",
        "case=0\n",
        "while n>=0:\n",
        "  if n%5==0: #5의 배수\n",
        "    case+=n//5\n",
        "    print(case)\n",
        "    break\n",
        "  n-=3\n",
        "  case+=1\n",
        "else: \n",
        "  print(-1)\n",
        "  \n",
        "    "
      ],
      "metadata": {
        "id": "kK91IOpQG5yL"
      },
      "execution_count": null,
      "outputs": []
    },
    {
      "cell_type": "markdown",
      "source": [
        "# **큰수A+B**"
      ],
      "metadata": {
        "id": "QdB9De8oMbpU"
      }
    },
    {
      "cell_type": "code",
      "source": [
        "a,b = map(int,input().split())\n",
        "\n",
        "print(a+b)"
      ],
      "metadata": {
        "id": "0CeQ-saLMfcz"
      },
      "execution_count": null,
      "outputs": []
    },
    {
      "cell_type": "markdown",
      "source": [
        "# **1011_Fly me to the Alpha Centauri**"
      ],
      "metadata": {
        "id": "1BosYKt-NGge"
      }
    },
    {
      "cell_type": "code",
      "source": [
        ""
      ],
      "metadata": {
        "id": "YBLfcC1BNU6T"
      },
      "execution_count": null,
      "outputs": []
    }
  ]
}