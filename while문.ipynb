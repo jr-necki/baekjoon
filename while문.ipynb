{
  "nbformat": 4,
  "nbformat_minor": 0,
  "metadata": {
    "colab": {
      "name": "while문.ipynb",
      "private_outputs": true,
      "provenance": [],
      "authorship_tag": "ABX9TyO8z4yxCawHnl5YNegVsUKK",
      "include_colab_link": true
    },
    "kernelspec": {
      "name": "python3",
      "display_name": "Python 3"
    },
    "language_info": {
      "name": "python"
    }
  },
  "cells": [
    {
      "cell_type": "markdown",
      "metadata": {
        "id": "view-in-github",
        "colab_type": "text"
      },
      "source": [
        "<a href=\"https://colab.research.google.com/github/jelly-boop/baekjoon/blob/master/while%EB%AC%B8.ipynb\" target=\"_parent\"><img src=\"https://colab.research.google.com/assets/colab-badge.svg\" alt=\"Open In Colab\"/></a>"
      ]
    },
    {
      "cell_type": "markdown",
      "source": [
        "# **10952_A+B-5**"
      ],
      "metadata": {
        "id": "fR5OJ9UCwCje"
      }
    },
    {
      "cell_type": "code",
      "source": [
        "while True:\n",
        "  a,b = input().split()\n",
        "  a=int(a)\n",
        "  b = int(b)\n",
        "  if(a==0 and b==0):\n",
        "    break\n",
        "  else:\n",
        "    print(a+b)"
      ],
      "metadata": {
        "id": "kge2Ls0WwCuN"
      },
      "execution_count": null,
      "outputs": []
    },
    {
      "cell_type": "markdown",
      "source": [
        "# **10951_A+B-4**"
      ],
      "metadata": {
        "id": "7gH4bJaR6n1r"
      }
    },
    {
      "cell_type": "markdown",
      "source": [
        "## **map(int,input()).split**"
      ],
      "metadata": {
        "id": "mPWlzsk17BFM"
      }
    },
    {
      "cell_type": "code",
      "source": [
        "while True:\n",
        "    try:\n",
        "        A, B = map(int, input().split())\n",
        "        print(A+B)\n",
        "    except:\n",
        "        break"
      ],
      "metadata": {
        "id": "UwgwXMxL6swq"
      },
      "execution_count": null,
      "outputs": []
    },
    {
      "cell_type": "markdown",
      "source": [
        "# **1110_더하기사이클**"
      ],
      "metadata": {
        "id": "5gFQMl4Z7Wdg"
      }
    },
    {
      "cell_type": "code",
      "source": [
        "n = int(input())\n",
        "num = n\n",
        "cnt=0;\n",
        "\n",
        "while True:\n",
        "  a= num // 10\n",
        "  b = num % 10\n",
        "  c = (a+b)%10\n",
        "  num =b*10+c\n",
        "  cnt+=1\n",
        "\n",
        "  if(num == n):\n",
        "    break\n",
        "print(cnt)\n"
      ],
      "metadata": {
        "id": "_h3oplBf7bKM"
      },
      "execution_count": null,
      "outputs": []
    }
  ]
}