{
  "nbformat": 4,
  "nbformat_minor": 0,
  "metadata": {
    "colab": {
      "name": "for문.ipynb",
      "private_outputs": true,
      "provenance": [],
      "authorship_tag": "ABX9TyPwPFN+BKplQb4vTctITDcC",
      "include_colab_link": true
    },
    "kernelspec": {
      "name": "python3",
      "display_name": "Python 3"
    },
    "language_info": {
      "name": "python"
    }
  },
  "cells": [
    {
      "cell_type": "markdown",
      "metadata": {
        "id": "view-in-github",
        "colab_type": "text"
      },
      "source": [
        "<a href=\"https://colab.research.google.com/github/jelly-boop/baekjoon/blob/master/for%EB%AC%B8.ipynb\" target=\"_parent\"><img src=\"https://colab.research.google.com/assets/colab-badge.svg\" alt=\"Open In Colab\"/></a>"
      ]
    },
    {
      "cell_type": "markdown",
      "source": [
        "# **2739_구구단**"
      ],
      "metadata": {
        "id": "yv-uOS1IwXk6"
      }
    },
    {
      "cell_type": "code",
      "source": [
        "n = int(input())\n",
        "\n",
        "for i in range(1,10):\n",
        "  print(n,\"*\",i,\"=\",n*i)"
      ],
      "metadata": {
        "id": "fq5ShgyKwdWR"
      },
      "execution_count": null,
      "outputs": []
    },
    {
      "cell_type": "markdown",
      "source": [
        "# **10950_A+B-3**"
      ],
      "metadata": {
        "id": "i2uH1T32xO5I"
      }
    },
    {
      "cell_type": "code",
      "source": [
        "n = int(input())\n",
        "\n",
        "for i in range(0,n):\n",
        "  a,b = input().split()\n",
        "  print(int(a)+int(b))"
      ],
      "metadata": {
        "id": "qZMCMGujxcgw"
      },
      "execution_count": null,
      "outputs": []
    },
    {
      "cell_type": "markdown",
      "source": [
        "# **8393_합**"
      ],
      "metadata": {
        "id": "a3NDn3AoyDBB"
      }
    },
    {
      "cell_type": "code",
      "source": [
        "n = int(input())\n",
        "sum=0\n",
        "for i in range(1,n+1):\n",
        "  sum+=i\n",
        "print(sum)"
      ],
      "metadata": {
        "id": "5VyIUybuyDPI"
      },
      "execution_count": null,
      "outputs": []
    },
    {
      "cell_type": "markdown",
      "source": [
        "# **15552_빠른A+B**"
      ],
      "metadata": {
        "id": "w0ylicBJ1HyC"
      }
    },
    {
      "cell_type": "code",
      "source": [
        "import sys\n",
        "\n",
        "n = int(input())\n",
        "\n",
        "for i in range(n):\n",
        "  a,b = map(int, sys.stdin.readline().split())\n",
        "  print(a+b)"
      ],
      "metadata": {
        "id": "M-hk-5zQ1Qzf"
      },
      "execution_count": null,
      "outputs": []
    },
    {
      "cell_type": "markdown",
      "source": [
        "# **2741_N찍기**"
      ],
      "metadata": {
        "id": "5qDE0ijM6phX"
      }
    },
    {
      "cell_type": "code",
      "source": [
        "n = int(input())\n",
        "for i in range(1,n+1):\n",
        "  print(i)"
      ],
      "metadata": {
        "id": "4QgOmE5f6x7F"
      },
      "execution_count": null,
      "outputs": []
    },
    {
      "cell_type": "markdown",
      "source": [
        "# **2742_기찍N**"
      ],
      "metadata": {
        "id": "2_foSmEu7G7e"
      }
    },
    {
      "cell_type": "code",
      "source": [
        "n = int(input())\n",
        "for i in range(n,0,-1):\n",
        "  print(i)"
      ],
      "metadata": {
        "id": "asmEbv4L7MWF"
      },
      "execution_count": null,
      "outputs": []
    },
    {
      "cell_type": "markdown",
      "source": [
        "# **11021_A+B-7**"
      ],
      "metadata": {
        "id": "cfQrXVkr7hZ3"
      }
    },
    {
      "cell_type": "code",
      "source": [
        "n = int(input())\n",
        "\n",
        "for i in range(1,n+1):\n",
        "  a,b = input().split()\n",
        "  \n",
        "  print(\"Case #%d: %d\" %(i, int(a)+int(b)))"
      ],
      "metadata": {
        "id": "_1-MtURB7mEP"
      },
      "execution_count": null,
      "outputs": []
    },
    {
      "cell_type": "markdown",
      "source": [
        "# **11022_A+B-8**"
      ],
      "metadata": {
        "id": "zye4xIIo9ZKd"
      }
    },
    {
      "cell_type": "code",
      "source": [
        "n = int(input())\n",
        "\n",
        "for i in range(1,n+1):\n",
        "  a,b = input().split()\n",
        "  \n",
        "  print(\"Case #%d: % s + %s = %d\" %(i,a,b, int(a)+int(b)))"
      ],
      "metadata": {
        "id": "3RD9ozZ29eDN"
      },
      "execution_count": null,
      "outputs": []
    },
    {
      "cell_type": "markdown",
      "source": [
        "# **2438_별찍기**"
      ],
      "metadata": {
        "id": "WfWOtdNY_r0j"
      }
    },
    {
      "cell_type": "code",
      "source": [
        "n = int(input())\n",
        "\n",
        "for i in range(1,n+1):\n",
        "  print(\"*\"*i)"
      ],
      "metadata": {
        "id": "aJqCgzsh_wNI"
      },
      "execution_count": null,
      "outputs": []
    },
    {
      "cell_type": "markdown",
      "source": [
        "# **2439_별찍기-2**"
      ],
      "metadata": {
        "id": "12kNdvWdHb_L"
      }
    },
    {
      "cell_type": "code",
      "source": [
        "n = int(input())\n",
        "\n",
        "for i in range(1,n+1):\n",
        "  print(\" \"*(n-i)+\"*\"*i)"
      ],
      "metadata": {
        "id": "8-mX_U16HgGS"
      },
      "execution_count": null,
      "outputs": []
    },
    {
      "cell_type": "markdown",
      "source": [
        "# **10871_X보다작은수**"
      ],
      "metadata": {
        "id": "8GH94L4UIYZq"
      }
    },
    {
      "cell_type": "code",
      "source": [
        "n,x=input().split()\n",
        "nums=input().split()\n",
        "ans=\"\"\n",
        "x= int(x)\n",
        "for i in nums:\n",
        "  i=int(i)\n",
        "  if(i < x):\n",
        "    ans+=str(i)+\" \"\n",
        "\n",
        "print(ans)\n",
        "\n"
      ],
      "metadata": {
        "id": "PcnwEh2YIYqx"
      },
      "execution_count": null,
      "outputs": []
    }
  ]
}