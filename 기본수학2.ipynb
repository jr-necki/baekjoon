{
  "nbformat": 4,
  "nbformat_minor": 0,
  "metadata": {
    "colab": {
      "name": "기본수학2.ipynb",
      "private_outputs": true,
      "provenance": [],
      "collapsed_sections": [],
      "authorship_tag": "ABX9TyPD0HyqhBhlMXQokp27tn0n",
      "include_colab_link": true
    },
    "kernelspec": {
      "name": "python3",
      "display_name": "Python 3"
    },
    "language_info": {
      "name": "python"
    }
  },
  "cells": [
    {
      "cell_type": "markdown",
      "metadata": {
        "id": "view-in-github",
        "colab_type": "text"
      },
      "source": [
        "<a href=\"https://colab.research.google.com/github/jelly-boop/baekjoon/blob/master/%EA%B8%B0%EB%B3%B8%EC%88%98%ED%95%992.ipynb\" target=\"_parent\"><img src=\"https://colab.research.google.com/assets/colab-badge.svg\" alt=\"Open In Colab\"/></a>"
      ]
    },
    {
      "cell_type": "markdown",
      "source": [
        "# **1978_소수찾기**"
      ],
      "metadata": {
        "id": "X95uMl8eO-Nt"
      }
    },
    {
      "cell_type": "code",
      "source": [
        "n = int(input())\n",
        "numbers = list(map(int, input().split()))\n",
        "count=0\n",
        "\n",
        "def checkSosu(number):\n",
        "  sosu = True\n",
        "  if number == 1:\n",
        "    sosu = False\n",
        "  else:\n",
        "    for i in range(2,number):\n",
        "      if number % i == 0:\n",
        "        sosu = False\n",
        "        break\n",
        "  return sosu\n",
        "\n",
        "for i in numbers:\n",
        "  if(checkSosu(i)):\n",
        "    count+=1\n",
        "\n",
        "print(count)"
      ],
      "metadata": {
        "id": "_HSpmg1oPDvY"
      },
      "execution_count": null,
      "outputs": []
    },
    {
      "cell_type": "markdown",
      "source": [
        "# **2581_소수**"
      ],
      "metadata": {
        "id": "14o4ZoaZRkjC"
      }
    },
    {
      "cell_type": "code",
      "source": [
        "a = int(input())\n",
        "b= int(input())\n",
        "\n",
        "def checkSosu(number):\n",
        "  sosu = True\n",
        "  if number == 1:\n",
        "    sosu = False\n",
        "  else:\n",
        "    for i in range(2,number):\n",
        "      if number % i == 0:\n",
        "        sosu = False\n",
        "        break\n",
        "  return sosu\n",
        "\n",
        "sosu=[]\n",
        "for i in range(a,b+1):\n",
        "  if(checkSosu(i)):\n",
        "    sosu.append(i)\n",
        "\n",
        "if(len(sosu)==0):\n",
        "  print(-1)\n",
        "else:\n",
        "  print(sum(sosu))\n",
        "  print(min(sosu))"
      ],
      "metadata": {
        "id": "nSMzCwPEQ3-Q"
      },
      "execution_count": null,
      "outputs": []
    },
    {
      "cell_type": "markdown",
      "source": [
        "# **1929_소수구하기**\n",
        "에라토스테네스의 체\n"
      ],
      "metadata": {
        "id": "GIKyWh2KXGRB"
      }
    },
    {
      "cell_type": "code",
      "source": [
        "a,b = map(int,input().split())\n",
        "\n",
        "for i in range(a,b+1):\n",
        "  if i==1:\n",
        "    continue\n",
        "  for j in range(2, int(i**0.5)+1):\n",
        "    if i%j==0:\n",
        "      break\n",
        "  else:\n",
        "    print(i)\n"
      ],
      "metadata": {
        "id": "J_Z4FBW0XRi9"
      },
      "execution_count": null,
      "outputs": []
    },
    {
      "cell_type": "markdown",
      "source": [
        "# **베르트랑공준_4948**\n",
        "에라토스테네스의 체"
      ],
      "metadata": {
        "id": "atDSs_5Ql2kr"
      }
    },
    {
      "cell_type": "code",
      "source": [
        "import math\n",
        "erato=[1]*(2*123456+1) # 모두 1로 세팅한뒤\n",
        "erato[0]=0\n",
        "erato[1]=0\n",
        "\n",
        "# 소수가 아닌것들은 0으로 다 지워준다\n",
        "for i in range(2, int(math.sqrt(len(erato)))):\n",
        "  if erato[i]: # 만약 소수라면\n",
        "    for j in range(i+i,len(erato),i): # 주어진 범위에서 i의 배수를\n",
        "      erato[j]=0 # 0으로 해준다.\n",
        "\n",
        "while True:\n",
        "  n = int(input())\n",
        "  if n==0:\n",
        "    break\n",
        "  else:\n",
        "    print(sum(erato[n+1:(2*n)+1]))"
      ],
      "metadata": {
        "id": "bFdCRek8l6rS"
      },
      "execution_count": null,
      "outputs": []
    },
    {
      "cell_type": "markdown",
      "source": [
        "# **9020_골드바흐추측**"
      ],
      "metadata": {
        "id": "kAPMSNE5v9Rw"
      }
    },
    {
      "cell_type": "code",
      "source": [
        ""
      ],
      "metadata": {
        "id": "a_9mQLJnuhMp"
      },
      "execution_count": null,
      "outputs": []
    },
    {
      "cell_type": "markdown",
      "source": [
        "# **1085_직사각형에서탈출**"
      ],
      "metadata": {
        "id": "js_yVMbZGblZ"
      }
    },
    {
      "cell_type": "code",
      "source": [
        "x,y,w,h = map(int, input().split())\n",
        "print(min(x,y,w-x,h-y))"
      ],
      "metadata": {
        "id": "HnjATdUIGb3l"
      },
      "execution_count": null,
      "outputs": []
    },
    {
      "cell_type": "markdown",
      "source": [
        "# **3009_네번째점**"
      ],
      "metadata": {
        "id": "jer69bhFJse0"
      }
    },
    {
      "cell_type": "code",
      "source": [
        "x =[]\n",
        "y =[]\n",
        "\n",
        "for i in range(3):\n",
        "  x1,y1 = map(int, input().split())\n",
        "  x.append(x1)\n",
        "  y.append(y1)\n",
        "\n",
        "for i in range(3):\n",
        "  if x.count(x[i]) == 1:\n",
        "    x4 = x[i]\n",
        "  if y.count(y[i]) ==1:\n",
        "    y4 = y[i]\n",
        "\n",
        "print(x4,y4)\n"
      ],
      "metadata": {
        "id": "VWUSO0VMJvnf"
      },
      "execution_count": null,
      "outputs": []
    },
    {
      "cell_type": "markdown",
      "source": [
        "# **4153_직각삼각형**"
      ],
      "metadata": {
        "id": "fkQKCgugNf4V"
      }
    },
    {
      "cell_type": "code",
      "source": [
        "\n",
        "while True:\n",
        "  tri = list(map(int,input().split()))\n",
        "  if sum(tri) == 0:\n",
        "    break\n",
        "  maxside = max(tri)\n",
        "  tri.remove(maxside)  \n",
        "  if tri[0]**2 + tri[1]**2 == maxside**2:\n",
        "    print(\"right\")\n",
        "  else:\n",
        "    print(\"wrong\")"
      ],
      "metadata": {
        "id": "kG7EF1_9NgD2"
      },
      "execution_count": null,
      "outputs": []
    },
    {
      "cell_type": "markdown",
      "source": [
        "# **3053_택시기하학**"
      ],
      "metadata": {
        "id": "hL2NXgUkSioX"
      }
    },
    {
      "cell_type": "code",
      "source": [
        "import math\n",
        "r = int(input())\n",
        "print(f'{r*r*math.pi:.6f}')\n",
        "print(f'{2*r*r:.6f}')"
      ],
      "metadata": {
        "id": "ijG6SV4AOM5L"
      },
      "execution_count": null,
      "outputs": []
    }
  ]
}