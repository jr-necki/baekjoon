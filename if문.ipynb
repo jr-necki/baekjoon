{
  "nbformat": 4,
  "nbformat_minor": 0,
  "metadata": {
    "colab": {
      "name": "if문.ipynb",
      "private_outputs": true,
      "provenance": [],
      "authorship_tag": "ABX9TyOf3lBMKf9Y1eIOeNbGBiex",
      "include_colab_link": true
    },
    "kernelspec": {
      "name": "python3",
      "display_name": "Python 3"
    },
    "language_info": {
      "name": "python"
    }
  },
  "cells": [
    {
      "cell_type": "markdown",
      "metadata": {
        "id": "view-in-github",
        "colab_type": "text"
      },
      "source": [
        "<a href=\"https://colab.research.google.com/github/jelly-boop/baekjoon/blob/master/if%EB%AC%B8.ipynb\" target=\"_parent\"><img src=\"https://colab.research.google.com/assets/colab-badge.svg\" alt=\"Open In Colab\"/></a>"
      ]
    },
    {
      "cell_type": "markdown",
      "source": [
        ""
      ],
      "metadata": {
        "id": "0KZn1zlFA3gi"
      }
    },
    {
      "cell_type": "markdown",
      "source": [
        "#  **1330_두 수 비교하기**"
      ],
      "metadata": {
        "id": "iQsXjK3AA6Vv"
      }
    },
    {
      "cell_type": "code",
      "source": [
        "a,b = input().split()\n",
        "a = int(a)\n",
        "b=int(b)\n",
        "if(a>b):\n",
        "  print(\">\")\n",
        "elif(a<b):\n",
        "  print(\"<\")\n",
        "else:\n",
        "  print(\"==\")"
      ],
      "metadata": {
        "id": "TY8k7y3gBEFM"
      },
      "execution_count": null,
      "outputs": []
    },
    {
      "cell_type": "markdown",
      "source": [
        "# **9498_시험성적**"
      ],
      "metadata": {
        "id": "zm-jAwNUCX8f"
      }
    },
    {
      "cell_type": "code",
      "source": [
        "a = int(input())\n",
        "\n",
        "if a >= 90: print(\"A\")\n",
        "elif a >= 80: print(\"B\")\n",
        "elif a >= 70: print(\"C\")\n",
        "elif a >= 60: print(\"D\")\n",
        "else: print(\"F\")"
      ],
      "metadata": {
        "id": "e0LwPStbBr3X"
      },
      "execution_count": null,
      "outputs": []
    },
    {
      "cell_type": "markdown",
      "source": [
        "# **2753_윤년**"
      ],
      "metadata": {
        "id": "mUZU2yaaDIAf"
      }
    },
    {
      "cell_type": "code",
      "source": [
        "year = int(input())\n",
        "\n",
        "if( a%4 ==0 and a%100 != 0):\n",
        "  print(1)\n",
        "elif (a%400 == 0):\n",
        "  print(1)\n",
        "else:\n",
        "  print(0)"
      ],
      "metadata": {
        "id": "ay0SGU-7DIS4"
      },
      "execution_count": null,
      "outputs": []
    },
    {
      "cell_type": "markdown",
      "source": [
        "# **14681_사분면 고르기**"
      ],
      "metadata": {
        "id": "KuFE1uq9b2KB"
      }
    },
    {
      "cell_type": "code",
      "source": [
        "x= int(input())\n",
        "y=int(input())\n",
        "\n",
        "if(x>0 and y>0):\n",
        "  print(1)\n",
        "elif(x<0 and y>0):\n",
        "  print(2)\n",
        "elif(x<0 and y<0):\n",
        "  print(3)\n",
        "elif(x>0 and y<0):\n",
        "  print(4)"
      ],
      "metadata": {
        "id": "cnWBxzZmb2cx"
      },
      "execution_count": null,
      "outputs": []
    },
    {
      "cell_type": "markdown",
      "source": [
        "# **2884_알람시계**"
      ],
      "metadata": {
        "id": "i1rMH8PoczjK"
      }
    },
    {
      "cell_type": "code",
      "source": [
        "time,min = input().split()\n",
        "time= int(time)\n",
        "min = int(min)\n",
        "\n",
        "if(min >= 45):\n",
        "  min = min -45\n",
        "else:\n",
        "  min = min+60-45\n",
        "  if(time < 1):\n",
        "    time = 23\n",
        "  else:\n",
        "    time-=1\n",
        "print(time,\" \",min)"
      ],
      "metadata": {
        "id": "E74RROQxc4co"
      },
      "execution_count": null,
      "outputs": []
    }
  ]
}