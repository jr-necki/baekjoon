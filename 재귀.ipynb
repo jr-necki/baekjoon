{
  "nbformat": 4,
  "nbformat_minor": 0,
  "metadata": {
    "colab": {
      "name": "재귀.ipynb",
      "private_outputs": true,
      "provenance": [],
      "authorship_tag": "ABX9TyOqpHQKp4Z8byhyZZKs/140",
      "include_colab_link": true
    },
    "kernelspec": {
      "name": "python3",
      "display_name": "Python 3"
    },
    "language_info": {
      "name": "python"
    }
  },
  "cells": [
    {
      "cell_type": "markdown",
      "metadata": {
        "id": "view-in-github",
        "colab_type": "text"
      },
      "source": [
        "<a href=\"https://colab.research.google.com/github/jelly-boop/baekjoon/blob/master/%EC%9E%AC%EA%B7%80.ipynb\" target=\"_parent\"><img src=\"https://colab.research.google.com/assets/colab-badge.svg\" alt=\"Open In Colab\"/></a>"
      ]
    },
    {
      "cell_type": "markdown",
      "source": [
        "# **10872_팩토리얼**"
      ],
      "metadata": {
        "id": "gC-nhrW7qffA"
      }
    },
    {
      "cell_type": "code",
      "source": [
        "n = int(input())\n",
        "ans=1\n",
        "for i in range(1,n+1):\n",
        "  ans*=i\n",
        "\n",
        "print(ans)"
      ],
      "metadata": {
        "id": "Tzot2kPKqjZ3"
      },
      "execution_count": null,
      "outputs": []
    },
    {
      "cell_type": "markdown",
      "source": [
        "# **10870_피보나치 수 5**"
      ],
      "metadata": {
        "id": "2hupQH3krv0V"
      }
    },
    {
      "cell_type": "code",
      "source": [
        "def fibo(n):\n",
        "  if n <2:\n",
        "    return n\n",
        "  else:\n",
        "    return fibo(n-1)+fibo(n-2)\n",
        "\n",
        "n = int(input())\n",
        "print(fibo(n))"
      ],
      "metadata": {
        "id": "JdjA6XPMrwBl"
      },
      "execution_count": null,
      "outputs": []
    }
  ]
}