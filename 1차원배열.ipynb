{
  "nbformat": 4,
  "nbformat_minor": 0,
  "metadata": {
    "colab": {
      "name": "1차원배열.ipynb",
      "private_outputs": true,
      "provenance": [],
      "authorship_tag": "ABX9TyONFiO4pYDi/uJwR9IVw3YJ",
      "include_colab_link": true
    },
    "kernelspec": {
      "name": "python3",
      "display_name": "Python 3"
    },
    "language_info": {
      "name": "python"
    }
  },
  "cells": [
    {
      "cell_type": "markdown",
      "metadata": {
        "id": "view-in-github",
        "colab_type": "text"
      },
      "source": [
        "<a href=\"https://colab.research.google.com/github/jelly-boop/baekjoon/blob/master/1%EC%B0%A8%EC%9B%90%EB%B0%B0%EC%97%B4.ipynb\" target=\"_parent\"><img src=\"https://colab.research.google.com/assets/colab-badge.svg\" alt=\"Open In Colab\"/></a>"
      ]
    },
    {
      "cell_type": "markdown",
      "source": [
        "# **10818_최소,최대**"
      ],
      "metadata": {
        "id": "PoZAnaUW-8RA"
      }
    },
    {
      "cell_type": "code",
      "source": [
        "n = input()\n",
        "n =list( map(int,input().split()))\n",
        "print(min(n),max(n))"
      ],
      "metadata": {
        "id": "dSX8qAjg_DLv"
      },
      "execution_count": null,
      "outputs": []
    },
    {
      "cell_type": "markdown",
      "source": [
        "# **2562_최댓값**"
      ],
      "metadata": {
        "id": "neLd0YeeSCQ1"
      }
    },
    {
      "cell_type": "code",
      "source": [
        "numbers = []\n",
        "for i in range(9):\n",
        "  a= int(input())\n",
        "  numbers.append(a)\n",
        "\n",
        "print(max(numbers))\n",
        "print(numbers.index(max(numbers))+1)\n"
      ],
      "metadata": {
        "id": "nKbB_ystSGBR"
      },
      "execution_count": null,
      "outputs": []
    },
    {
      "cell_type": "markdown",
      "source": [
        "# **2577_숫자의 개수**"
      ],
      "metadata": {
        "id": "9eErRvdSV2N4"
      }
    },
    {
      "cell_type": "code",
      "source": [
        "a = int(input())\n",
        "b = int(input())\n",
        "c = int(input())\n",
        "\n",
        "n = a*b*c\n",
        "n = list(str(n))\n",
        "\n",
        "for i in range(10):\n",
        "  print(n.count(str(i)))# 해당 숫자가 몇개인지 카운트해줌\n",
        "\n",
        "\n",
        "\n"
      ],
      "metadata": {
        "id": "8yIYK8ukV6Ev"
      },
      "execution_count": null,
      "outputs": []
    },
    {
      "cell_type": "markdown",
      "source": [
        "# **3052_나머지**"
      ],
      "metadata": {
        "id": "hmDZLZVGvpky"
      }
    },
    {
      "cell_type": "code",
      "source": [
        "numbers=[]\n",
        "for i in range(10):\n",
        "  a = int(input())%42\n",
        "  numbers.append(a)\n",
        "\n",
        "ans = set(numbers)\n",
        "print(len(ans))\n"
      ],
      "metadata": {
        "id": "T6l0c8Onvt6U"
      },
      "execution_count": null,
      "outputs": []
    },
    {
      "cell_type": "markdown",
      "source": [
        "# **1546_평균**"
      ],
      "metadata": {
        "id": "XuJgJweqKNRT"
      }
    },
    {
      "cell_type": "code",
      "source": [
        "n = int(input())\n",
        "scores = list(map(int, input().split()))\n",
        "maxscore = max(scores)\n",
        "\n",
        "sum=0\n",
        "\n",
        "for i in scores:\n",
        "  sum = sum+ i/maxscore*100\n",
        "print(sum/n)"
      ],
      "metadata": {
        "id": "dl0bKojAKsj7"
      },
      "execution_count": null,
      "outputs": []
    },
    {
      "cell_type": "markdown",
      "source": [
        "# **8958_OX퀴즈**"
      ],
      "metadata": {
        "id": "HLFUBhC2MfAh"
      }
    },
    {
      "cell_type": "code",
      "source": [
        "n = int(input())\n",
        "\n",
        "for i in range(n):\n",
        "  result = str(input())\n",
        "  total=0\n",
        "  now=0\n",
        "  for r in list(result):\n",
        "    if(r =='O'):\n",
        "      now=now+1\n",
        "    else:\n",
        "      now=0\n",
        "    total=total+now\n",
        "\n",
        "  print(total)"
      ],
      "metadata": {
        "id": "HuFwdmLOMfNo"
      },
      "execution_count": null,
      "outputs": []
    },
    {
      "cell_type": "markdown",
      "source": [
        "# **4344_평균은 넘겠지**"
      ],
      "metadata": {
        "id": "yJ8eKlnERAWh"
      }
    },
    {
      "cell_type": "code",
      "source": [
        "num = int(input())\n",
        "\n",
        "for _ in range(num):\n",
        "    scores = list(map(int, input().split()))\n",
        "    avg = sum(scores[1:])/scores[0]\n",
        "    \n",
        "    cnt = 0\n",
        "    for i in scores[1:]:\n",
        "        if i > avg:\n",
        "            cnt += 1\n",
        "            \n",
        "    per = (cnt/scores[0])*100\n",
        "    print('%.3f' %per + '%')\n"
      ],
      "metadata": {
        "id": "Dr33W1xiREiB"
      },
      "execution_count": null,
      "outputs": []
    }
  ]
}