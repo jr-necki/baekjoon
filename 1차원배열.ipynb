{
  "nbformat": 4,
  "nbformat_minor": 0,
  "metadata": {
    "colab": {
      "name": "1차원배열.ipynb",
      "private_outputs": true,
      "provenance": [],
      "authorship_tag": "ABX9TyMF94rtUPQe0dWgZlPXoW0b",
      "include_colab_link": true
    },
    "kernelspec": {
      "name": "python3",
      "display_name": "Python 3"
    },
    "language_info": {
      "name": "python"
    }
  },
  "cells": [
    {
      "cell_type": "markdown",
      "metadata": {
        "id": "view-in-github",
        "colab_type": "text"
      },
      "source": [
        "<a href=\"https://colab.research.google.com/github/jelly-boop/baekjoon/blob/master/1%EC%B0%A8%EC%9B%90%EB%B0%B0%EC%97%B4.ipynb\" target=\"_parent\"><img src=\"https://colab.research.google.com/assets/colab-badge.svg\" alt=\"Open In Colab\"/></a>"
      ]
    },
    {
      "cell_type": "markdown",
      "source": [
        "# **10818_최소,최대**"
      ],
      "metadata": {
        "id": "PoZAnaUW-8RA"
      }
    },
    {
      "cell_type": "code",
      "source": [
        "n = input()\n",
        "n =list( map(int,input().split()))\n",
        "print(min(n),max(n))"
      ],
      "metadata": {
        "id": "dSX8qAjg_DLv"
      },
      "execution_count": null,
      "outputs": []
    },
    {
      "cell_type": "markdown",
      "source": [
        "# **2562_최댓값**"
      ],
      "metadata": {
        "id": "neLd0YeeSCQ1"
      }
    },
    {
      "cell_type": "code",
      "source": [
        "numbers = []\n",
        "for i in range(9):\n",
        "  a= int(input())\n",
        "  numbers.append(a)\n",
        "\n",
        "print(max(numbers))\n",
        "print(numbers.index(max(numbers))+1)\n"
      ],
      "metadata": {
        "id": "nKbB_ystSGBR"
      },
      "execution_count": null,
      "outputs": []
    },
    {
      "cell_type": "markdown",
      "source": [
        "# **2577_숫자의 개수**"
      ],
      "metadata": {
        "id": "9eErRvdSV2N4"
      }
    },
    {
      "cell_type": "code",
      "source": [
        "a = int(input())\n",
        "b = int(input())\n",
        "c = int(input())\n",
        "\n",
        "n = a*b*c\n",
        "n=list(str(n))\n",
        "for i in range(10):\n",
        "  print(n.count(str(i))) # 해당 숫자가 몇개인지 카운트해줌\n"
      ],
      "metadata": {
        "id": "8yIYK8ukV6Ev"
      },
      "execution_count": null,
      "outputs": []
    }
  ]
}